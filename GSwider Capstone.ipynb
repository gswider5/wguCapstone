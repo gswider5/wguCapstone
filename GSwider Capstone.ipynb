{
 "cells": [
  {
   "cell_type": "markdown",
   "metadata": {},
   "source": [
    "# Gary Swider - Capstone - RI Traffic Stops Analysis"
   ]
  },
  {
   "cell_type": "code",
   "execution_count": 1,
   "metadata": {},
   "outputs": [],
   "source": [
    "#import libraries\n",
    "import pandas as pd\n",
    "import numpy as np\n",
    "import matplotlib.pyplot as plt\n",
    "from sklearn.linear_model import LinearRegression\n",
    "import os\n",
    "import xlrd\n",
    "import datetime"
   ]
  },
  {
   "cell_type": "code",
   "execution_count": 2,
   "metadata": {},
   "outputs": [
    {
     "name": "stdout",
     "output_type": "stream",
     "text": [
      "C:\\Users\\GPS10\\Desktop\\GSwiderCapstone\n"
     ]
    }
   ],
   "source": [
    "cd /Users/GPS10/Desktop/GSwiderCapstone/"
   ]
  },
  {
   "cell_type": "markdown",
   "metadata": {},
   "source": [
    "First, we read in the CSV file, provided by Kaggle. We then remove any unnecessary columns from the dataframe. Then, we preview the data set."
   ]
  },
  {
   "cell_type": "code",
   "execution_count": 3,
   "metadata": {},
   "outputs": [
    {
     "data": {
      "text/html": [
       "<div>\n",
       "<style scoped>\n",
       "    .dataframe tbody tr th:only-of-type {\n",
       "        vertical-align: middle;\n",
       "    }\n",
       "\n",
       "    .dataframe tbody tr th {\n",
       "        vertical-align: top;\n",
       "    }\n",
       "\n",
       "    .dataframe thead th {\n",
       "        text-align: right;\n",
       "    }\n",
       "</style>\n",
       "<table border=\"1\" class=\"dataframe\">\n",
       "  <thead>\n",
       "    <tr style=\"text-align: right;\">\n",
       "      <th></th>\n",
       "      <th>stop_date</th>\n",
       "      <th>stop_time</th>\n",
       "      <th>driver_gender</th>\n",
       "      <th>driver_race</th>\n",
       "      <th>violation</th>\n",
       "      <th>district</th>\n",
       "    </tr>\n",
       "  </thead>\n",
       "  <tbody>\n",
       "    <tr>\n",
       "      <th>0</th>\n",
       "      <td>1/4/2005</td>\n",
       "      <td>12:55</td>\n",
       "      <td>M</td>\n",
       "      <td>White</td>\n",
       "      <td>Equipment</td>\n",
       "      <td>Zone X4</td>\n",
       "    </tr>\n",
       "    <tr>\n",
       "      <th>1</th>\n",
       "      <td>1/23/2005</td>\n",
       "      <td>23:15</td>\n",
       "      <td>M</td>\n",
       "      <td>White</td>\n",
       "      <td>Speeding</td>\n",
       "      <td>Zone K3</td>\n",
       "    </tr>\n",
       "    <tr>\n",
       "      <th>2</th>\n",
       "      <td>2/17/2005</td>\n",
       "      <td>4:15</td>\n",
       "      <td>M</td>\n",
       "      <td>White</td>\n",
       "      <td>Speeding</td>\n",
       "      <td>Zone X4</td>\n",
       "    </tr>\n",
       "    <tr>\n",
       "      <th>3</th>\n",
       "      <td>2/20/2005</td>\n",
       "      <td>17:15</td>\n",
       "      <td>M</td>\n",
       "      <td>White</td>\n",
       "      <td>Other</td>\n",
       "      <td>Zone X1</td>\n",
       "    </tr>\n",
       "    <tr>\n",
       "      <th>4</th>\n",
       "      <td>2/24/2005</td>\n",
       "      <td>1:20</td>\n",
       "      <td>F</td>\n",
       "      <td>White</td>\n",
       "      <td>Speeding</td>\n",
       "      <td>Zone X3</td>\n",
       "    </tr>\n",
       "    <tr>\n",
       "      <th>...</th>\n",
       "      <td>...</td>\n",
       "      <td>...</td>\n",
       "      <td>...</td>\n",
       "      <td>...</td>\n",
       "      <td>...</td>\n",
       "      <td>...</td>\n",
       "    </tr>\n",
       "    <tr>\n",
       "      <th>91736</th>\n",
       "      <td>12/31/2015</td>\n",
       "      <td>21:21</td>\n",
       "      <td>F</td>\n",
       "      <td>Black</td>\n",
       "      <td>Moving violation</td>\n",
       "      <td>Zone K2</td>\n",
       "    </tr>\n",
       "    <tr>\n",
       "      <th>91737</th>\n",
       "      <td>12/31/2015</td>\n",
       "      <td>21:59</td>\n",
       "      <td>F</td>\n",
       "      <td>White</td>\n",
       "      <td>Speeding</td>\n",
       "      <td>Zone K3</td>\n",
       "    </tr>\n",
       "    <tr>\n",
       "      <th>91738</th>\n",
       "      <td>12/31/2015</td>\n",
       "      <td>22:04</td>\n",
       "      <td>M</td>\n",
       "      <td>White</td>\n",
       "      <td>Moving violation</td>\n",
       "      <td>Zone X3</td>\n",
       "    </tr>\n",
       "    <tr>\n",
       "      <th>91739</th>\n",
       "      <td>12/31/2015</td>\n",
       "      <td>22:09</td>\n",
       "      <td>F</td>\n",
       "      <td>Hispanic</td>\n",
       "      <td>Equipment</td>\n",
       "      <td>Zone K3</td>\n",
       "    </tr>\n",
       "    <tr>\n",
       "      <th>91740</th>\n",
       "      <td>12/31/2015</td>\n",
       "      <td>22:47</td>\n",
       "      <td>M</td>\n",
       "      <td>White</td>\n",
       "      <td>Registration/plates</td>\n",
       "      <td>Zone X4</td>\n",
       "    </tr>\n",
       "  </tbody>\n",
       "</table>\n",
       "<p>91741 rows × 6 columns</p>\n",
       "</div>"
      ],
      "text/plain": [
       "        stop_date stop_time driver_gender driver_race            violation  \\\n",
       "0        1/4/2005     12:55             M       White            Equipment   \n",
       "1       1/23/2005     23:15             M       White             Speeding   \n",
       "2       2/17/2005      4:15             M       White             Speeding   \n",
       "3       2/20/2005     17:15             M       White                Other   \n",
       "4       2/24/2005      1:20             F       White             Speeding   \n",
       "...           ...       ...           ...         ...                  ...   \n",
       "91736  12/31/2015     21:21             F       Black     Moving violation   \n",
       "91737  12/31/2015     21:59             F       White             Speeding   \n",
       "91738  12/31/2015     22:04             M       White     Moving violation   \n",
       "91739  12/31/2015     22:09             F    Hispanic            Equipment   \n",
       "91740  12/31/2015     22:47             M       White  Registration/plates   \n",
       "\n",
       "      district  \n",
       "0      Zone X4  \n",
       "1      Zone K3  \n",
       "2      Zone X4  \n",
       "3      Zone X1  \n",
       "4      Zone X3  \n",
       "...        ...  \n",
       "91736  Zone K2  \n",
       "91737  Zone K3  \n",
       "91738  Zone X3  \n",
       "91739  Zone K3  \n",
       "91740  Zone X4  \n",
       "\n",
       "[91741 rows x 6 columns]"
      ]
     },
     "execution_count": 3,
     "metadata": {},
     "output_type": "execute_result"
    }
   ],
   "source": [
    "data_set= pd.read_csv(\"police.csv\")\n",
    "data_set.drop(['violation_raw','search_conducted', 'stop_outcome','is_arrested','stop_duration','drugs_related_stop'], axis = 'columns', inplace= True)\n",
    "data_set.dropna(subset=['stop_date','stop_time'], inplace = True)\n",
    "data_set"
   ]
  },
  {
   "cell_type": "markdown",
   "metadata": {},
   "source": [
    "We check for data types and make the appropriate conversions"
   ]
  },
  {
   "cell_type": "code",
   "execution_count": 4,
   "metadata": {},
   "outputs": [
    {
     "data": {
      "text/plain": [
       "stop_date        object\n",
       "stop_time        object\n",
       "driver_gender    object\n",
       "driver_race      object\n",
       "violation        object\n",
       "district         object\n",
       "dtype: object"
      ]
     },
     "metadata": {},
     "output_type": "display_data"
    }
   ],
   "source": [
    "display(data_set.dtypes)"
   ]
  },
  {
   "cell_type": "code",
   "execution_count": 5,
   "metadata": {},
   "outputs": [],
   "source": [
    "data_set['stop_datetime']= pd.to_datetime(data_set['stop_date'].str.cat(data_set['stop_time'], sep=\" \"))\n",
    "data_set['stop_date']= pd.to_datetime(data_set['stop_date'])\n",
    "data_set['stop_time']= pd.to_datetime(data_set['stop_time'])\n",
    "data_set['stop_month']=data_set['stop_date'].dt.month"
   ]
  },
  {
   "cell_type": "code",
   "execution_count": 6,
   "metadata": {
    "scrolled": true
   },
   "outputs": [
    {
     "data": {
      "text/plain": [
       "stop_date        datetime64[ns]\n",
       "stop_time        datetime64[ns]\n",
       "driver_gender            object\n",
       "driver_race              object\n",
       "violation                object\n",
       "district                 object\n",
       "stop_datetime    datetime64[ns]\n",
       "stop_month                int64\n",
       "dtype: object"
      ]
     },
     "metadata": {},
     "output_type": "display_data"
    }
   ],
   "source": [
    "display(data_set.dtypes)"
   ]
  },
  {
   "cell_type": "code",
   "execution_count": 7,
   "metadata": {},
   "outputs": [],
   "source": [
    "data_set.set_index('stop_datetime', inplace=True)"
   ]
  },
  {
   "cell_type": "markdown",
   "metadata": {},
   "source": [
    "First, let's check if there are any historical trends based on demographic information."
   ]
  },
  {
   "cell_type": "code",
   "execution_count": 8,
   "metadata": {},
   "outputs": [
    {
     "data": {
      "text/plain": [
       "M    62762\n",
       "F    23774\n",
       "Name: driver_gender, dtype: int64"
      ]
     },
     "metadata": {},
     "output_type": "display_data"
    }
   ],
   "source": [
    "display(data_set['driver_gender'].value_counts())"
   ]
  },
  {
   "cell_type": "markdown",
   "metadata": {},
   "source": [
    "We see above that a majority of the traffic stop offenders are male. By grouping, we can further conclude that the majority of traffic stop offenders are White Males. Additionally, it seems that people who are White, account for most of the traffic stop violations."
   ]
  },
  {
   "cell_type": "code",
   "execution_count": 9,
   "metadata": {},
   "outputs": [
    {
     "name": "stdout",
     "output_type": "stream",
     "text": [
      "Gender by Race\n",
      "\n"
     ]
    },
    {
     "data": {
      "text/plain": [
       "driver_gender  driver_race\n",
       "F              White          18536\n",
       "               Black           2681\n",
       "               Hispanic        1953\n",
       "               Asian            551\n",
       "               Other             53\n",
       "M              White          43334\n",
       "               Black           9604\n",
       "               Hispanic        7774\n",
       "               Asian           1838\n",
       "               Other            212\n",
       "Name: driver_race, dtype: int64"
      ]
     },
     "metadata": {},
     "output_type": "display_data"
    }
   ],
   "source": [
    "female = data_set[data_set['driver_gender']=='F']\n",
    "male = data_set[data_set['driver_gender']=='M']\n",
    "\n",
    "print(\"Gender by Race\\n\")\n",
    "display(data_set.groupby('driver_gender')['driver_race'].value_counts())"
   ]
  },
  {
   "cell_type": "code",
   "execution_count": 10,
   "metadata": {},
   "outputs": [
    {
     "data": {
      "text/plain": [
       "<AxesSubplot:title={'center':'Traffic Stops by Gender and Race'}, xlabel='driver_gender,driver_race', ylabel='# of Traffic Stops'>"
      ]
     },
     "execution_count": 10,
     "metadata": {},
     "output_type": "execute_result"
    },
    {
     "data": {
      "image/png": "[encoded data removed]",
      "text/plain": [
       "<Figure size 864x432 with 1 Axes>"
      ]
     },
     "metadata": {
      "needs_background": "light"
     },
     "output_type": "display_data"
    }
   ],
   "source": [
    "plt.figure(figsize=(12,6))\n",
    "gender_compare = (data_set.groupby('driver_gender')['driver_race'].value_counts())\n",
    "plt.ylabel('# of Traffic Stops', fontsize=16)\n",
    "plt.xlabel('Driver Gender and Race', fontsize=16)\n",
    "plt.title(\"Traffic Stops by Gender and Race\", fontsize=24, fontweight = 'bold')\n",
    "gender_compare.plot(width= 0.9, kind='bar')"
   ]
  },
  {
   "cell_type": "code",
   "execution_count": 11,
   "metadata": {},
   "outputs": [
    {
     "data": {
      "text/plain": [
       "2007-05-16    63\n",
       "2011-09-03    62\n",
       "2006-01-09    59\n",
       "2005-11-04    59\n",
       "2007-01-04    57\n",
       "              ..\n",
       "2010-12-26     1\n",
       "2005-07-24     1\n",
       "2005-03-29     1\n",
       "2005-09-20     1\n",
       "2007-12-25     1\n",
       "Name: stop_date, Length: 3757, dtype: int64"
      ]
     },
     "execution_count": 11,
     "metadata": {},
     "output_type": "execute_result"
    }
   ],
   "source": [
    "data_set['stop_date'].value_counts()"
   ]
  },
  {
   "cell_type": "code",
   "execution_count": 12,
   "metadata": {},
   "outputs": [],
   "source": [
    "dates = data_set['stop_date'].value_counts()\n",
    "data_set.sort_values('stop_date',inplace=True)"
   ]
  },
  {
   "cell_type": "code",
   "execution_count": 13,
   "metadata": {},
   "outputs": [
    {
     "data": {
      "text/plain": [
       "<AxesSubplot:title={'center':'Traffic Stops from 2005- 2015'}, xlabel='Year', ylabel='# of Traffic Stops'>"
      ]
     },
     "execution_count": 13,
     "metadata": {},
     "output_type": "execute_result"
    },
    {
     "data": {
      "image/png": "[encoded data removed]",
      "text/plain": [
       "<Figure size 864x432 with 1 Axes>"
      ]
     },
     "metadata": {
      "needs_background": "light"
     },
     "output_type": "display_data"
    }
   ],
   "source": [
    "plt.figure(figsize=(12,6))\n",
    "plt.ylabel('# of Traffic Stops',fontsize=16)\n",
    "plt.xlabel('Year',fontsize=16)\n",
    "plt.title(\"Traffic Stops from 2005- 2015\", fontsize = 24, fontweight = 'bold')\n",
    "dates.plot()"
   ]
  },
  {
   "cell_type": "markdown",
   "metadata": {},
   "source": [
    "# FIXME Need to change size ^\n"
   ]
  },
  {
   "cell_type": "code",
   "execution_count": 14,
   "metadata": {},
   "outputs": [
    {
     "data": {
      "text/plain": [
       "<AxesSubplot:title={'center':'Traffic Stops from 2005- 2015 by Month'}, xlabel='# of Traffic Stops', ylabel='Month'>"
      ]
     },
     "execution_count": 14,
     "metadata": {},
     "output_type": "execute_result"
    },
    {
     "data": {
      "image/png": "[encoded data removed]",
      "text/plain": [
       "<Figure size 864x432 with 1 Axes>"
      ]
     },
     "metadata": {
      "needs_background": "light"
     },
     "output_type": "display_data"
    }
   ],
   "source": [
    "data_set.sort_values('stop_month', inplace=True)\n",
    "months = data_set['stop_month'].value_counts()\n",
    "plt.figure(figsize=(12,6))\n",
    "plt.ylabel('Month',fontsize = 16)\n",
    "plt.xlabel('# of Traffic Stops', fontsize = 16)\n",
    "plt.title(\"Traffic Stops from 2005- 2015 by Month\",fontsize = 24, fontweight = 'bold')\n",
    "months.plot(kind='barh')"
   ]
  },
  {
   "cell_type": "code",
   "execution_count": 15,
   "metadata": {},
   "outputs": [
    {
     "data": {
      "text/html": [
       "<div>\n",
       "<style scoped>\n",
       "    .dataframe tbody tr th:only-of-type {\n",
       "        vertical-align: middle;\n",
       "    }\n",
       "\n",
       "    .dataframe tbody tr th {\n",
       "        vertical-align: top;\n",
       "    }\n",
       "\n",
       "    .dataframe thead th {\n",
       "        text-align: right;\n",
       "    }\n",
       "</style>\n",
       "<table border=\"1\" class=\"dataframe\">\n",
       "  <thead>\n",
       "    <tr style=\"text-align: right;\">\n",
       "      <th></th>\n",
       "      <th>stop_date</th>\n",
       "      <th>count</th>\n",
       "    </tr>\n",
       "  </thead>\n",
       "  <tbody>\n",
       "    <tr>\n",
       "      <th>0</th>\n",
       "      <td>38356</td>\n",
       "      <td>1</td>\n",
       "    </tr>\n",
       "    <tr>\n",
       "      <th>1</th>\n",
       "      <td>38375</td>\n",
       "      <td>1</td>\n",
       "    </tr>\n",
       "    <tr>\n",
       "      <th>2</th>\n",
       "      <td>38400</td>\n",
       "      <td>1</td>\n",
       "    </tr>\n",
       "    <tr>\n",
       "      <th>3</th>\n",
       "      <td>38403</td>\n",
       "      <td>1</td>\n",
       "    </tr>\n",
       "    <tr>\n",
       "      <th>4</th>\n",
       "      <td>38407</td>\n",
       "      <td>1</td>\n",
       "    </tr>\n",
       "    <tr>\n",
       "      <th>...</th>\n",
       "      <td>...</td>\n",
       "      <td>...</td>\n",
       "    </tr>\n",
       "    <tr>\n",
       "      <th>3752</th>\n",
       "      <td>42365</td>\n",
       "      <td>23</td>\n",
       "    </tr>\n",
       "    <tr>\n",
       "      <th>3753</th>\n",
       "      <td>42366</td>\n",
       "      <td>32</td>\n",
       "    </tr>\n",
       "    <tr>\n",
       "      <th>3754</th>\n",
       "      <td>42367</td>\n",
       "      <td>13</td>\n",
       "    </tr>\n",
       "    <tr>\n",
       "      <th>3755</th>\n",
       "      <td>42368</td>\n",
       "      <td>25</td>\n",
       "    </tr>\n",
       "    <tr>\n",
       "      <th>3756</th>\n",
       "      <td>42369</td>\n",
       "      <td>23</td>\n",
       "    </tr>\n",
       "  </tbody>\n",
       "</table>\n",
       "<p>3757 rows × 2 columns</p>\n",
       "</div>"
      ],
      "text/plain": [
       "      stop_date  count\n",
       "0         38356      1\n",
       "1         38375      1\n",
       "2         38400      1\n",
       "3         38403      1\n",
       "4         38407      1\n",
       "...         ...    ...\n",
       "3752      42365     23\n",
       "3753      42366     32\n",
       "3754      42367     13\n",
       "3755      42368     25\n",
       "3756      42369     23\n",
       "\n",
       "[3757 rows x 2 columns]"
      ]
     },
     "execution_count": 15,
     "metadata": {},
     "output_type": "execute_result"
    }
   ],
   "source": [
    "count_data=pd.read_csv(\"count_table.csv\")\n",
    "count_data"
   ]
  },
  {
   "cell_type": "code",
   "execution_count": 16,
   "metadata": {},
   "outputs": [],
   "source": [
    "lr = LinearRegression()"
   ]
  },
  {
   "cell_type": "code",
   "execution_count": 17,
   "metadata": {},
   "outputs": [
    {
     "data": {
      "text/plain": [
       "[<matplotlib.lines.Line2D at 0x16e1131d310>]"
      ]
     },
     "execution_count": 17,
     "metadata": {},
     "output_type": "execute_result"
    },
    {
     "data": {
      "image/png": "[encoded data removed]",
      "text/plain": [
       "<Figure size 864x432 with 1 Axes>"
      ]
     },
     "metadata": {
      "needs_background": "light"
     },
     "output_type": "display_data"
    }
   ],
   "source": [
    "plt.figure(figsize=(12,6))\n",
    "x=count_data['stop_date'].values\n",
    "y=count_data['count'].values\n",
    "lr.fit(x.reshape(-1,1), y )\n",
    "predict = lr.predict(x.reshape(-1,1))\n",
    "plt.scatter(x, y)\n",
    "plt.title('Linear Regression', fontsize=24, fontweight='bold')\n",
    "plt.xlabel('Date',fontsize=16)\n",
    "plt.ylabel('Number of Traffic Stops', fontsize=16)\n",
    "plt.plot(count_data['stop_date'].values,predict, color = 'red')\n"
   ]
  },
  {
   "cell_type": "markdown",
   "metadata": {},
   "source": [
    "X axis needed to be converted to an integer for Linear Regression. \n",
    "Therefore, date was converted to 'absolute day' as [days since 1900-01-01]"
   ]
  },
  {
   "cell_type": "code",
   "execution_count": 18,
   "metadata": {},
   "outputs": [
    {
     "data": {
      "text/plain": [
       "array([-0.00069405])"
      ]
     },
     "execution_count": 18,
     "metadata": {},
     "output_type": "execute_result"
    }
   ],
   "source": [
    "lr.coef_"
   ]
  },
  {
   "cell_type": "code",
   "execution_count": 19,
   "metadata": {},
   "outputs": [
    {
     "data": {
      "text/plain": [
       "52.51847784952172"
      ]
     },
     "execution_count": 19,
     "metadata": {},
     "output_type": "execute_result"
    }
   ],
   "source": [
    "lr.intercept_"
   ]
  },
  {
   "cell_type": "markdown",
   "metadata": {},
   "source": [
    "Use the converter below to convert a date from number of days since 1/1/1990."
   ]
  },
  {
   "cell_type": "code",
   "execution_count": 20,
   "metadata": {},
   "outputs": [
    {
     "data": {
      "text/plain": [
       "datetime.date(2021, 1, 26)"
      ]
     },
     "execution_count": 20,
     "metadata": {},
     "output_type": "execute_result"
    }
   ],
   "source": [
    "datetime.date(1900,1,1)+datetime.timedelta(44220)"
   ]
  },
  {
   "cell_type": "markdown",
   "metadata": {},
   "source": [
    "Now set the x variable to the number from the above converter."
   ]
  },
  {
   "cell_type": "code",
   "execution_count": 21,
   "metadata": {},
   "outputs": [],
   "source": [
    "x = 44220"
   ]
  },
  {
   "cell_type": "markdown",
   "metadata": {},
   "source": [
    "The above number is the number of days since 1-1-1900, 44220 is January 26, 2021.\n",
    "Change the above number to predict how many traffic stops there will be on that day."
   ]
  },
  {
   "cell_type": "markdown",
   "metadata": {},
   "source": [
    "Using y = m*x+b , we can predict the number of stops for a given date."
   ]
  },
  {
   "cell_type": "code",
   "execution_count": 22,
   "metadata": {},
   "outputs": [
    {
     "data": {
      "text/plain": [
       "array([21.82761161])"
      ]
     },
     "execution_count": 22,
     "metadata": {},
     "output_type": "execute_result"
    }
   ],
   "source": [
    "lr.coef_ * x +lr.intercept_"
   ]
  },
  {
   "cell_type": "markdown",
   "metadata": {},
   "source": [
    "The Linear Regression model predicted 21.8 traffic stops for January 26, 2021."
   ]
  },
  {
   "cell_type": "markdown",
   "metadata": {},
   "source": [
    "## Predict Accuracy"
   ]
  },
  {
   "cell_type": "code",
   "execution_count": 28,
   "metadata": {},
   "outputs": [
    {
     "data": {
      "text/plain": [
       "21"
      ]
     },
     "execution_count": 28,
     "metadata": {},
     "output_type": "execute_result"
    }
   ],
   "source": [
    "y[110]"
   ]
  },
  {
   "cell_type": "code",
   "execution_count": 29,
   "metadata": {},
   "outputs": [
    {
     "data": {
      "text/plain": [
       "25.646271628764747"
      ]
     },
     "execution_count": 29,
     "metadata": {},
     "output_type": "execute_result"
    }
   ],
   "source": [
    "predict[110]"
   ]
  },
  {
   "cell_type": "code",
   "execution_count": 25,
   "metadata": {},
   "outputs": [],
   "source": [
    "# mean square error"
   ]
  },
  {
   "cell_type": "code",
   "execution_count": 26,
   "metadata": {},
   "outputs": [
    {
     "data": {
      "text/plain": [
       "-572.4225154350962"
      ]
     },
     "execution_count": 26,
     "metadata": {},
     "output_type": "execute_result"
    }
   ],
   "source": [
    "np.mean(y-predict**2)"
   ]
  },
  {
   "cell_type": "markdown",
   "metadata": {},
   "source": [
    "This prediction model is not very accurate, which shows there is a very weak correlation between the number of traffic stops and the date. There is most likely other factors that effect the number of traffic stops, such as weather, time of day, specific streets/neighborhoods."
   ]
  }
 ],
 "metadata": {
  "kernelspec": {
   "display_name": "Python 3",
   "language": "python",
   "name": "python3"
  },
  "language_info": {
   "codemirror_mode": {
    "name": "ipython",
    "version": 3
   },
   "file_extension": ".py",
   "mimetype": "text/x-python",
   "name": "python",
   "nbconvert_exporter": "python",
   "pygments_lexer": "ipython3",
   "version": "3.8.5"
  }
 },
 "nbformat": 4,
 "nbformat_minor": 4
}
